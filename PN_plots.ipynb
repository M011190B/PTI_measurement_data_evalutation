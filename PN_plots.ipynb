{
 "cells": [
  {
   "cell_type": "code",
   "execution_count": 1,
   "metadata": {},
   "outputs": [],
   "source": [
    "import pandas as pd\n",
    "import seaborn as sns\n",
    "import matplotlib.pyplot as plt\n",
    "import numpy as np"
   ]
  },
  {
   "cell_type": "code",
   "execution_count": 56,
   "metadata": {},
   "outputs": [],
   "source": [
    "#load data\n",
    "data = pd.read_pickle('data_cleaned.pkl')\n"
   ]
  },
  {
   "cell_type": "code",
   "execution_count": 57,
   "metadata": {},
   "outputs": [],
   "source": [
    "pn_instruments = ['apc','dc_2sm','dc_sn008','dc_sn010']\n",
    "\n",
    "pn_data =data[data.measurement_instrument.isin(pn_instruments)]\n",
    "\n"
   ]
  },
  {
   "cell_type": "code",
   "execution_count": null,
   "metadata": {},
   "outputs": [],
   "source": []
  },
  {
   "cell_type": "code",
   "execution_count": 58,
   "metadata": {},
   "outputs": [],
   "source": [
    "sns.set_context('paper')\n",
    "sns.set_style('whitegrid')\n",
    "# instrument_colors = {'apc': 'tab:blue',\n",
    "#                      'dc_sn008':'tab:orange',\n",
    "#                      'dc_sn010': 'tab:red',\n",
    "#                      'dc_2sm': 'tab:cyan',\n",
    "#                      'smps': 'tab:purple',\n",
    "#                      'eeps':'tab:olive'}\n",
    "palette = ['tab:blue','tab:red','tab:cyan','tab:orange']"
   ]
  },
  {
   "cell_type": "code",
   "execution_count": null,
   "metadata": {},
   "outputs": [],
   "source": [
    "ctypes = pn_data.combustion_type.unique()\n",
    "   \n",
    "g = sns.catplot(kind = 'strip',x = 'vehicle_name_paper',y ='c_mean',col = 'mode',hue = 'measurement_instrument',palette = palette,data = pn_data.sort_values(['combustion_type','particle_filter']))\n",
    "plt.yscale('log')\n",
    "g.set_xticklabels(rotation=60,horizontalalignment = 'right',verticalalignment = 'top')\n",
    "g.set(xlabel = '',ylabel = 'PN concentration / #/cm³')"
   ]
  },
  {
   "cell_type": "code",
   "execution_count": 55,
   "metadata": {},
   "outputs": [
    {
     "data": {
      "text/plain": [
       "Index(['measurement_number', 'description', 'start_time', 'end_time',\n",
       "       'vehicle_id', 'mode', 'measurement_instrument', 'Qin',\n",
       "       'post_apc_dilution', 'mp_ok', 'comment', 'c_mean', 'GMD', 'GSD',\n",
       "       'number_plate', 'manufacturer', 'model', 'vehicle_name',\n",
       "       'vehicle_name_paper', 'year_of_cunstruction', 'displacement',\n",
       "       'power_hp', 'euro', 'euro_extention', 'fuel', 'mileage',\n",
       "       'standard_vehicle', 'vehicle_comment', 'combustion_type'],\n",
       "      dtype='object')"
      ]
     },
     "execution_count": 55,
     "metadata": {},
     "output_type": "execute_result"
    }
   ],
   "source": [
    "data.columns"
   ]
  },
  {
   "cell_type": "code",
   "execution_count": 27,
   "metadata": {},
   "outputs": [],
   "source": []
  },
  {
   "cell_type": "code",
   "execution_count": 28,
   "metadata": {},
   "outputs": [
    {
     "data": {
      "text/plain": [
       "array(['Diesel', 'Gasoline DI', 'Gasoline PFI'], dtype=object)"
      ]
     },
     "execution_count": 28,
     "metadata": {},
     "output_type": "execute_result"
    }
   ],
   "source": []
  },
  {
   "cell_type": "code",
   "execution_count": null,
   "metadata": {},
   "outputs": [],
   "source": []
  }
 ],
 "metadata": {
  "kernelspec": {
   "display_name": "Python 3",
   "language": "python",
   "name": "python3"
  },
  "language_info": {
   "codemirror_mode": {
    "name": "ipython",
    "version": 3
   },
   "file_extension": ".py",
   "mimetype": "text/x-python",
   "name": "python",
   "nbconvert_exporter": "python",
   "pygments_lexer": "ipython3",
   "version": "3.7.3"
  }
 },
 "nbformat": 4,
 "nbformat_minor": 4
}
